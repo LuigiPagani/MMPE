{
 "cells": [
  {
   "cell_type": "markdown",
   "id": "e4061628-56d1-4b96-8a2d-f7a3f711b5c6",
   "metadata": {},
   "source": [
    "## CH4 \n"
   ]
  },
  {
   "cell_type": "code",
   "execution_count": null,
   "id": "b3622178-d360-4624-bff1-cc17dfa3aa5e",
   "metadata": {},
   "outputs": [],
   "source": [
    "\n",
    "DISTS,energy\\n,0.55,-37.72038623\\n,0.60,-38.45605109\\n,0.70,-39.41131994\\n,0.80,-39.93606841\\n,0.90,-40.20881916\\n,1.00,-40.33043345\\n,1.10,-40.36183348\\n,1.20,-40.34054399\\n,1.30,-40.28970150\\n,1.40,-40.22357496\\n,1.50,-40.15102091\\n,1.60,-40.07759478\\n,1.70,-40.00678266\\n,1.80,-39.94071557\\n,1.90,-39.88059592\\n,2.00,-39.82694120\\n,2.10,-39.77969269\\n,2.20,-39.73825595\\n,2.30,-39.70171471\\n,2.40,-39.66970447\\n,2.50,-39.64285913\\n,2.60,-39.62126885\\n,2.70,-39.60404747\\n,2.80,-39.59017952\\n,2.90,-39.57888958\\n,3.00,-39.56963842\\n,3.10,-39.56205198\\n,3.20,-39.55586435\\n,3.30,-39.55087977\\n,3.40,-39.54694810\\n,3.50,-39.54394905\\n,"
   ]
  },
  {
   "cell_type": "code",
   "execution_count": 43,
   "id": "9a52fd86-2fc9-4531-b1ec-6c713c7068cc",
   "metadata": {},
   "outputs": [],
   "source": [
    "import numpy as np\n",
    "\n",
    "f = open('ch4_scan.csv','w')\n",
    "f.write(\"DISTS,energy\\n,0.55,-37.72038623\\n,0.60,-38.45605109\\n,0.70,-39.41131994\\n,0.80,-39.93606841\\n,0.90,-40.20881916\\n,1.00,-40.33043345\\n,1.10,-40.36183348\\n,1.20,-40.34054399\\n,1.30,-40.28970150\\n,1.40,-40.22357496\\n,1.50,-40.15102091\\n,1.60,-40.07759478\\n,1.70,-40.00678266\\n,1.80,-39.94071557\\n,1.90,-39.88059592\\n,2.00,-39.82694120\\n,2.10,-39.77969269\\n,2.20,-39.73825595\\n,2.30,-39.70171471\\n,2.40,-39.66970447\\n,2.50,-39.64285913\\n,2.60,-39.62126885\\n,2.70,-39.60404747\\n,2.80,-39.59017952\\n,2.90,-39.57888958\\n,3.00,-39.56963842\\n,3.10,-39.56205198\\n,3.20,-39.55586435\\n,3.30,-39.55087977\\n,3.40,-39.54694810\\n,3.50,-39.54394905\\n\")\n",
    "## Python will convert \\n to os.linesep\n",
    "f.close()"
   ]
  },
  {
   "cell_type": "code",
   "execution_count": 30,
   "id": "edc1a58c-8a3b-4ea3-9a39-dd3c837379b5",
   "metadata": {},
   "outputs": [],
   "source": [
    "import pandas as pd \n",
    "ch4_scan = pd.read_csv(\"ch4_scan.csv\",delimiter=',')"
   ]
  },
  {
   "cell_type": "code",
   "execution_count": 31,
   "id": "aa2813c3-1583-4749-9f17-accd77cef2dc",
   "metadata": {},
   "outputs": [
    {
     "data": {
      "text/html": [
       "<div>\n",
       "<style scoped>\n",
       "    .dataframe tbody tr th:only-of-type {\n",
       "        vertical-align: middle;\n",
       "    }\n",
       "\n",
       "    .dataframe tbody tr th {\n",
       "        vertical-align: top;\n",
       "    }\n",
       "\n",
       "    .dataframe thead th {\n",
       "        text-align: right;\n",
       "    }\n",
       "</style>\n",
       "<table border=\"1\" class=\"dataframe\">\n",
       "  <thead>\n",
       "    <tr style=\"text-align: right;\">\n",
       "      <th></th>\n",
       "      <th>DISTS</th>\n",
       "      <th>energy</th>\n",
       "    </tr>\n",
       "  </thead>\n",
       "  <tbody>\n",
       "    <tr>\n",
       "      <th>NaN</th>\n",
       "      <td>0.55</td>\n",
       "      <td>-37.720386</td>\n",
       "    </tr>\n",
       "    <tr>\n",
       "      <th>NaN</th>\n",
       "      <td>0.60</td>\n",
       "      <td>-38.456051</td>\n",
       "    </tr>\n",
       "    <tr>\n",
       "      <th>NaN</th>\n",
       "      <td>0.70</td>\n",
       "      <td>-39.411320</td>\n",
       "    </tr>\n",
       "    <tr>\n",
       "      <th>NaN</th>\n",
       "      <td>0.80</td>\n",
       "      <td>-39.936068</td>\n",
       "    </tr>\n",
       "    <tr>\n",
       "      <th>NaN</th>\n",
       "      <td>0.90</td>\n",
       "      <td>-40.208819</td>\n",
       "    </tr>\n",
       "    <tr>\n",
       "      <th>NaN</th>\n",
       "      <td>1.00</td>\n",
       "      <td>-40.330433</td>\n",
       "    </tr>\n",
       "    <tr>\n",
       "      <th>NaN</th>\n",
       "      <td>1.10</td>\n",
       "      <td>-40.361833</td>\n",
       "    </tr>\n",
       "    <tr>\n",
       "      <th>NaN</th>\n",
       "      <td>1.20</td>\n",
       "      <td>-40.340544</td>\n",
       "    </tr>\n",
       "    <tr>\n",
       "      <th>NaN</th>\n",
       "      <td>1.30</td>\n",
       "      <td>-40.289701</td>\n",
       "    </tr>\n",
       "    <tr>\n",
       "      <th>NaN</th>\n",
       "      <td>1.40</td>\n",
       "      <td>-40.223575</td>\n",
       "    </tr>\n",
       "    <tr>\n",
       "      <th>NaN</th>\n",
       "      <td>1.50</td>\n",
       "      <td>-40.151021</td>\n",
       "    </tr>\n",
       "    <tr>\n",
       "      <th>NaN</th>\n",
       "      <td>1.60</td>\n",
       "      <td>-40.077595</td>\n",
       "    </tr>\n",
       "    <tr>\n",
       "      <th>NaN</th>\n",
       "      <td>1.70</td>\n",
       "      <td>-40.006783</td>\n",
       "    </tr>\n",
       "    <tr>\n",
       "      <th>NaN</th>\n",
       "      <td>1.80</td>\n",
       "      <td>-39.940716</td>\n",
       "    </tr>\n",
       "    <tr>\n",
       "      <th>NaN</th>\n",
       "      <td>1.90</td>\n",
       "      <td>-39.880596</td>\n",
       "    </tr>\n",
       "    <tr>\n",
       "      <th>NaN</th>\n",
       "      <td>2.00</td>\n",
       "      <td>-39.826941</td>\n",
       "    </tr>\n",
       "    <tr>\n",
       "      <th>NaN</th>\n",
       "      <td>2.10</td>\n",
       "      <td>-39.779693</td>\n",
       "    </tr>\n",
       "    <tr>\n",
       "      <th>NaN</th>\n",
       "      <td>2.20</td>\n",
       "      <td>-39.738256</td>\n",
       "    </tr>\n",
       "    <tr>\n",
       "      <th>NaN</th>\n",
       "      <td>2.30</td>\n",
       "      <td>-39.701715</td>\n",
       "    </tr>\n",
       "    <tr>\n",
       "      <th>NaN</th>\n",
       "      <td>2.40</td>\n",
       "      <td>-39.669704</td>\n",
       "    </tr>\n",
       "    <tr>\n",
       "      <th>NaN</th>\n",
       "      <td>2.50</td>\n",
       "      <td>-39.642859</td>\n",
       "    </tr>\n",
       "    <tr>\n",
       "      <th>NaN</th>\n",
       "      <td>2.60</td>\n",
       "      <td>-39.621269</td>\n",
       "    </tr>\n",
       "    <tr>\n",
       "      <th>NaN</th>\n",
       "      <td>2.70</td>\n",
       "      <td>-39.604047</td>\n",
       "    </tr>\n",
       "    <tr>\n",
       "      <th>NaN</th>\n",
       "      <td>2.80</td>\n",
       "      <td>-39.590180</td>\n",
       "    </tr>\n",
       "    <tr>\n",
       "      <th>NaN</th>\n",
       "      <td>2.90</td>\n",
       "      <td>-39.578890</td>\n",
       "    </tr>\n",
       "    <tr>\n",
       "      <th>NaN</th>\n",
       "      <td>3.00</td>\n",
       "      <td>-39.569638</td>\n",
       "    </tr>\n",
       "    <tr>\n",
       "      <th>NaN</th>\n",
       "      <td>3.10</td>\n",
       "      <td>-39.562052</td>\n",
       "    </tr>\n",
       "    <tr>\n",
       "      <th>NaN</th>\n",
       "      <td>3.20</td>\n",
       "      <td>-39.555864</td>\n",
       "    </tr>\n",
       "    <tr>\n",
       "      <th>NaN</th>\n",
       "      <td>3.30</td>\n",
       "      <td>-39.550880</td>\n",
       "    </tr>\n",
       "    <tr>\n",
       "      <th>NaN</th>\n",
       "      <td>3.40</td>\n",
       "      <td>-39.546948</td>\n",
       "    </tr>\n",
       "    <tr>\n",
       "      <th>NaN</th>\n",
       "      <td>3.50</td>\n",
       "      <td>-39.543949</td>\n",
       "    </tr>\n",
       "  </tbody>\n",
       "</table>\n",
       "</div>"
      ],
      "text/plain": [
       "     DISTS     energy\n",
       "NaN   0.55 -37.720386\n",
       "NaN   0.60 -38.456051\n",
       "NaN   0.70 -39.411320\n",
       "NaN   0.80 -39.936068\n",
       "NaN   0.90 -40.208819\n",
       "NaN   1.00 -40.330433\n",
       "NaN   1.10 -40.361833\n",
       "NaN   1.20 -40.340544\n",
       "NaN   1.30 -40.289701\n",
       "NaN   1.40 -40.223575\n",
       "NaN   1.50 -40.151021\n",
       "NaN   1.60 -40.077595\n",
       "NaN   1.70 -40.006783\n",
       "NaN   1.80 -39.940716\n",
       "NaN   1.90 -39.880596\n",
       "NaN   2.00 -39.826941\n",
       "NaN   2.10 -39.779693\n",
       "NaN   2.20 -39.738256\n",
       "NaN   2.30 -39.701715\n",
       "NaN   2.40 -39.669704\n",
       "NaN   2.50 -39.642859\n",
       "NaN   2.60 -39.621269\n",
       "NaN   2.70 -39.604047\n",
       "NaN   2.80 -39.590180\n",
       "NaN   2.90 -39.578890\n",
       "NaN   3.00 -39.569638\n",
       "NaN   3.10 -39.562052\n",
       "NaN   3.20 -39.555864\n",
       "NaN   3.30 -39.550880\n",
       "NaN   3.40 -39.546948\n",
       "NaN   3.50 -39.543949"
      ]
     },
     "execution_count": 31,
     "metadata": {},
     "output_type": "execute_result"
    }
   ],
   "source": [
    "ch4_scan"
   ]
  },
  {
   "cell_type": "code",
   "execution_count": 24,
   "id": "1fc616aa-1404-49d4-a2f2-8ab8d5e8909b",
   "metadata": {},
   "outputs": [],
   "source": [
    "import matplotlib.pyplot as plt"
   ]
  },
  {
   "cell_type": "code",
   "execution_count": 32,
   "id": "df23cea1-2d9f-4566-be80-8bae00c2f143",
   "metadata": {},
   "outputs": [
    {
     "data": {
      "text/plain": [
       "[<matplotlib.lines.Line2D at 0x203330ff3a0>]"
      ]
     },
     "execution_count": 32,
     "metadata": {},
     "output_type": "execute_result"
    },
    {
     "data": {
      "image/png": "[encoded data removed]",
      "text/plain": [
       "<Figure size 640x480 with 1 Axes>"
      ]
     },
     "metadata": {},
     "output_type": "display_data"
    }
   ],
   "source": [
    "plt.plot(ch4_scan[\"DISTS\"], ch4_scan[\"energy\"])"
   ]
  },
  {
   "cell_type": "code",
   "execution_count": 42,
   "id": "41a3d657-47d4-4e35-8584-c7e9989704c7",
   "metadata": {},
   "outputs": [
    {
     "data": {
      "text/plain": [
       "[<matplotlib.lines.Line2D at 0x203359319d0>]"
      ]
     },
     "execution_count": 42,
     "metadata": {},
     "output_type": "execute_result"
    },
    {
     "data": {
      "image/png": "[encoded data removed]",
      "text/plain": [
       "<Figure size 640x480 with 1 Axes>"
      ]
     },
     "metadata": {},
     "output_type": "display_data"
    }
   ],
   "source": [
    "\n",
    "plt.plot(np.array(ch4_scan[\"DISTS\"])[2:], np.array(ch4_scan[\"energy\"])[2:])"
   ]
  },
  {
   "cell_type": "code",
   "execution_count": null,
   "id": "2204ff54-27fc-49e5-ada5-20c284780cd6",
   "metadata": {},
   "outputs": [],
   "source": []
  },
  {
   "cell_type": "code",
   "execution_count": null,
   "id": "57c93400-d0cb-42f9-b140-248a43fed3e4",
   "metadata": {},
   "outputs": [],
   "source": []
  },
  {
   "cell_type": "code",
   "execution_count": null,
   "id": "653c7ded-5a68-4745-96d1-f06cc945980b",
   "metadata": {},
   "outputs": [],
   "source": []
  },
  {
   "cell_type": "markdown",
   "id": "c3ccc630-badb-42e5-86bd-78d943a7754d",
   "metadata": {},
   "source": [
    "## CH3"
   ]
  },
  {
   "cell_type": "code",
   "execution_count": null,
   "id": "73e3b574-bdf6-4645-a6f2-034482d01acf",
   "metadata": {},
   "outputs": [],
   "source": [
    "DISTS,energy,0.55,-37.43879480\\n,0.60,-38.02554288\\n,0.70,-38.78574352\\n,0.80,-39.20606755\\n,0.90,-39.43115875\\n,1.00,-39.54139889\\n,1.10,-39.58469797\\n,1.20,-39.59167688\\n,1.30,-39.57646481\\n,1.40,-39.55084454\\n,1.50,-39.52065570\\n,1.60,-39.48902767\\n,1.70,-39.45755623\\n,1.80,-39.42707473\\n,1.90,-39.39805776\\n,2.00,-39.37079443\\n,2.10,-39.34546330\\n,2.20,-39.32216711\\n,2.30,-39.30094850\\n,2.40,-39.28179655\\n,2.50,-39.26465465\\n,2.60,-39.24943210\\n,2.70,-39.23601669\\n,2.80,-39.22428335\\n,2.90,-39.21410000\\n,3.00,-39.20533175\\n,3.10,-39.19784586\\n,3.20,-39.19151571\\n,3.30,-39.18622358\\n,3.40,-39.18186224\\n,3.50,-39.17833523\\n,\n"
   ]
  },
  {
   "cell_type": "code",
   "execution_count": 54,
   "id": "74c0532b-ca64-4f9a-b043-f1049146be1f",
   "metadata": {},
   "outputs": [],
   "source": [
    "f = open('ch3_scan.csv','w')\n",
    "f.write(\"DISTS,energy\\n,0.55,-37.43879480\\n,0.60,-38.02554288\\n,0.70,-38.78574352\\n,0.80,-39.20606755\\n,0.90,-39.43115875\\n,1.00,-39.54139889\\n,1.10,-39.58469797\\n,1.20,-39.59167688\\n,1.30,-39.57646481\\n,1.40,-39.55084454\\n,1.50,-39.52065570\\n,1.60,-39.48902767\\n,1.70,-39.45755623\\n,1.80,-39.42707473\\n,1.90,-39.39805776\\n,2.00,-39.37079443\\n,2.10,-39.34546330\\n,2.20,-39.32216711\\n,2.30,-39.30094850\\n,2.40,-39.28179655\\n,2.50,-39.26465465\\n,2.60,-39.24943210\\n,2.70,-39.23601669\\n,2.80,-39.22428335\\n,2.90,-39.21410000\\n,3.00,-39.20533175\\n,3.10,-39.19784586\\n,3.20,-39.19151571\\n,3.30,-39.18622358\\n,3.40,-39.18186224\\n,3.50,-39.17833523\\n\")\n",
    "## Python will convert \\n to os.linesep\n",
    "f.close()"
   ]
  },
  {
   "cell_type": "code",
   "execution_count": 55,
   "id": "f6285688-9917-4639-b2b7-ca2ad5eb8985",
   "metadata": {},
   "outputs": [],
   "source": [
    "ch3_scan = pd.read_csv(\"ch3_scan.csv\",delimiter=',')"
   ]
  },
  {
   "cell_type": "code",
   "execution_count": 56,
   "id": "ef16c861-616b-483b-9bd4-f9954efacb1a",
   "metadata": {},
   "outputs": [
    {
     "data": {
      "text/plain": [
       "[<matplotlib.lines.Line2D at 0x20335b23f10>]"
      ]
     },
     "execution_count": 56,
     "metadata": {},
     "output_type": "execute_result"
    },
    {
     "data": {
      "image/png": "[encoded data removed]",
      "text/plain": [
       "<Figure size 640x480 with 1 Axes>"
      ]
     },
     "metadata": {},
     "output_type": "display_data"
    }
   ],
   "source": [
    "plt.plot(np.array(ch3_scan[\"DISTS\"])[2:], np.array(ch3_scan[\"energy\"])[2:])"
   ]
  },
  {
   "cell_type": "code",
   "execution_count": null,
   "id": "63831fa1-1f5a-435b-97ca-906dfd1024dc",
   "metadata": {},
   "outputs": [],
   "source": []
  }
 ],
 "metadata": {
  "kernelspec": {
   "display_name": "Python 3 (ipykernel)",
   "language": "python",
   "name": "python3"
  },
  "language_info": {
   "codemirror_mode": {
    "name": "ipython",
    "version": 3
   },
   "file_extension": ".py",
   "mimetype": "text/x-python",
   "name": "python",
   "nbconvert_exporter": "python",
   "pygments_lexer": "ipython3",
   "version": "3.8.10"
  }
 },
 "nbformat": 4,
 "nbformat_minor": 5
}
